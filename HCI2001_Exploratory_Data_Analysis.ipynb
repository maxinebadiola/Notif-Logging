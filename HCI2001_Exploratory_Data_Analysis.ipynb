{
 "cells": [
  {
   "cell_type": "markdown",
   "metadata": {
    "id": "E1HQk9fNIF_K"
   },
   "source": [
    "## **HCI2001 Notification Interaction Experiment**\n",
    "- Abello, Hans\n",
    "- Badiola, Maxine\n",
    "- Custer, John\n",
    "- Fausto, Bea\n",
    "- Leonida, Patrick\n",
    "- Yongco, Denzel\n"
   ]
  },
  {
   "cell_type": "markdown",
   "metadata": {
    "id": "3FwsorueIsr7"
   },
   "source": [
    "## **Reading the dataset**"
   ]
  },
  {
   "cell_type": "code",
   "execution_count": 2,
   "metadata": {
    "id": "nJ4XIVVvI26c"
   },
   "outputs": [
    {
     "name": "stderr",
     "output_type": "stream",
     "text": [
      "c:\\Users\\dbyon\\AppData\\Local\\Programs\\Python\\Python310\\lib\\site-packages\\scipy\\__init__.py:169: UserWarning: A NumPy version >=1.18.5 and <1.26.0 is required for this version of SciPy (detected version 1.26.3\n",
      "  warnings.warn(f\"A NumPy version >={np_minversion} and <{np_maxversion}\"\n"
     ]
    }
   ],
   "source": [
    "import numpy as np\n",
    "import pandas as pd\n",
    "import matplotlib.pyplot as plt\n",
    "import seaborn as sns\n",
    "from scipy.stats import chi2_contingency\n",
    "\n",
    "# Reading the Urgent Results dataset\n",
    "urgent_df = pd.read_csv('data/urgent-results.csv')\n",
    "\n",
    "# Reading the Non-Urgent Results dataset\n",
    "nonurgent_df = pd.read_csv('data/nonurgent-results.csv')"
   ]
  },
  {
   "cell_type": "markdown",
   "metadata": {
    "id": "DV8b5Hg8JEHI"
   },
   "source": [
    "## **I. Dataset Description**\n",
    "---\n",
    "### The Dataset\n",
    "For this exploratory data analysis, the dataset to be utilized is the data gathered from the Notification Interaction Experiment. There are two datasets, ***urgent results*** and ***non-urgent results***. The urgent results dataset contains data from participants who underwent the test and have selected the urgent scenario, while the non-urgent results dataset contains data from participants who underwent the test and have selected the non-urgent scenario.\n",
    "\n",
    "\n",
    "\\\n",
    "\n",
    "### Data Collection\n",
    "The core of the data collection method lies in a simulated Simon Says game. Participants will be instructed on a sequence of actions and presented with notifications during gameplay. The user will copy the ordering of the colors flashed on the color wheel. For instance, when the game highlights blue, the user must click blue. Notifications will be displayed on the screen and the user gets to decide what to do with that notification. Participants can choose to *Accept, Dismiss, or Ignore* the notifications. This design allows for the observation of user behavior under controlled conditions while mimicking a real-world scenario of receiving notifications during task completion. The game only ends when the user interacts with 30 unique notifications. As a result, a copy of the user's results will be downloaded and saved as a CSV file. Gamification introduces an element of playfulness and engagement, encouraging participants to actively interact with the simulated environment.  By integrating notifications within a game like Simon Says, we can create a more realistic scenario where participants need to prioritize between the game's instructions and the demands of the notifications. This approach allows us to observe user behavior closer to how they might react to notifications in their daily lives. The controlled environment of the simulated game has various advantages. First, it enables standardization. Every participant sees the identical game mechanics and notification presentations, reducing external influences that could bias the results. Second, the gamified approach encourages active engagement, resulting in a more comprehensive data set than passive methods such as surveys. Finally, the game captures user actions with specific timestamps, allowing us to examine not only the choices made, but also the time it takes to respond, which can provide useful insights into urgency perception and decision-making speed.\n",
    "\n",
    "\\\n",
    "### Data Structure\n",
    "In both of the datasets, a ***row*** represents an observation and a ***column*** pertains to a variable being measured. There are a total of ***9*** observations and ***4*** variables for each of the datasets.\n",
    "\n",
    "\\\n",
    "### Variable Definition\n",
    "The following are the descriptions of each variable in the dataset based on the `urgent-results.csv` and `nonurgent-results.csv` files:\n",
    "- **`color`**: the color of the notification *(red, green, or blue)*\n",
    "- **`category`**: the category of the notification *(emergency, social, or work)*\n",
    "- **`status`**: the interaction type of the user\n",
    "- **`interactionTime`**: the time it takes for the user to interact with the notification\n",
    "\n"
   ]
  },
  {
   "cell_type": "markdown",
   "metadata": {
    "id": "cpR-wrOozGv7"
   },
   "source": [
    "## **II. Data Cleaning**\n",
    "---\n",
    "### Filtering the variables\n",
    "Since the variables in both of the datasets are already limited and all variables will be utilized in the exploratory data analysis, there would be no reason to remove a variable from the study.\n",
    "\n",
    "\n",
    "\\\n",
    "\n",
    "### Removing 'NaN' or empty data\n",
    "To proceed, we will look for any remaining empty entries in the datasets."
   ]
  },
  {
   "cell_type": "code",
   "execution_count": 3,
   "metadata": {
    "colab": {
     "base_uri": "https://localhost:8080/"
    },
    "id": "UFc9T6nK0ll5",
    "outputId": "b174b9b5-219f-4acc-861c-f0c6dce45b76"
   },
   "outputs": [
    {
     "name": "stdout",
     "output_type": "stream",
     "text": [
      "<class 'pandas.core.frame.DataFrame'>\n",
      "RangeIndex: 180 entries, 0 to 179\n",
      "Data columns (total 4 columns):\n",
      " #   Column           Non-Null Count  Dtype  \n",
      "---  ------           --------------  -----  \n",
      " 0   color            180 non-null    object \n",
      " 1   category         180 non-null    object \n",
      " 2   status           180 non-null    object \n",
      " 3   interactionTime  180 non-null    float64\n",
      "dtypes: float64(1), object(3)\n",
      "memory usage: 5.8+ KB\n"
     ]
    }
   ],
   "source": [
    "# Urgent Results Dataset\n",
    "urgent_df.info()"
   ]
  },
  {
   "cell_type": "code",
   "execution_count": 4,
   "metadata": {
    "colab": {
     "base_uri": "https://localhost:8080/"
    },
    "id": "o4WPfxNx2rYe",
    "outputId": "80fb131d-7de7-4ad5-b159-211abf00e435"
   },
   "outputs": [
    {
     "name": "stdout",
     "output_type": "stream",
     "text": [
      "<class 'pandas.core.frame.DataFrame'>\n",
      "RangeIndex: 180 entries, 0 to 179\n",
      "Data columns (total 4 columns):\n",
      " #   Column           Non-Null Count  Dtype  \n",
      "---  ------           --------------  -----  \n",
      " 0   color            180 non-null    object \n",
      " 1   category         180 non-null    object \n",
      " 2   status           180 non-null    object \n",
      " 3   interactionTime  180 non-null    float64\n",
      "dtypes: float64(1), object(3)\n",
      "memory usage: 5.8+ KB\n"
     ]
    }
   ],
   "source": [
    "# Non-Urgent Results Dataset\n",
    "nonurgent_df.info()"
   ]
  },
  {
   "cell_type": "markdown",
   "metadata": {
    "id": "95wE5J4h3IpO"
   },
   "source": [
    "Based on the functions used above, given that the 180 Non-Null Count on the overall entries matches with the 180 Non-Null Count on each of the variables, we can say that there are no missing variables for both of the datasets.\n",
    "\n",
    "\\\n",
    "###Removing duplicate data\n",
    "After identifying that there are no empty data, let's look for duplicate data at entries with the same color, category, status, and interactionTime."
   ]
  },
  {
   "cell_type": "code",
   "execution_count": 5,
   "metadata": {
    "colab": {
     "base_uri": "https://localhost:8080/"
    },
    "id": "VTDMacAz4a8U",
    "outputId": "967ae3d8-ba37-488f-aa91-2dd355dea117"
   },
   "outputs": [
    {
     "name": "stdout",
     "output_type": "stream",
     "text": [
      "Number of duplicate rows: 35\n",
      "Duplicate rows:\n",
      "     color   category   status  interactionTime\n",
      "9      Red  Emergency  ignored             -1.0\n",
      "10     Red       Work  ignored             -1.0\n",
      "11     Red     Social  ignored             -1.0\n",
      "12   Green  Emergency  ignored             -1.0\n",
      "13   Green       Work  ignored             -1.0\n",
      "14   Green     Social  ignored             -1.0\n",
      "15    Blue  Emergency  ignored             -1.0\n",
      "16    Blue       Work  ignored             -1.0\n",
      "17    Blue     Social  ignored             -1.0\n",
      "18     Red  Emergency  ignored             -1.0\n",
      "19     Red       Work  ignored             -1.0\n",
      "20     Red     Social  ignored             -1.0\n",
      "21   Green  Emergency  ignored             -1.0\n",
      "22   Green       Work  ignored             -1.0\n",
      "23   Green     Social  ignored             -1.0\n",
      "24    Blue  Emergency  ignored             -1.0\n",
      "25    Blue       Work  ignored             -1.0\n",
      "26    Blue     Social  ignored             -1.0\n",
      "27     Red  Emergency  ignored             -1.0\n",
      "28     Red       Work  ignored             -1.0\n",
      "29     Red     Social  ignored             -1.0\n",
      "30   Green  Emergency  ignored             -1.0\n",
      "31   Green       Work  ignored             -1.0\n",
      "32   Green     Social  ignored             -1.0\n",
      "33    Blue  Emergency  ignored             -1.0\n",
      "34    Blue       Work  ignored             -1.0\n",
      "35    Blue     Social  ignored             -1.0\n",
      "147  Green  Emergency  ignored             -1.0\n",
      "148  Green       Work  ignored             -1.0\n",
      "149  Green     Social  ignored             -1.0\n",
      "150   Blue  Emergency  ignored             -1.0\n",
      "154    Red       Work  ignored             -1.0\n",
      "156  Green  Emergency  ignored             -1.0\n",
      "157  Green       Work  ignored             -1.0\n",
      "159   Blue  Emergency  ignored             -1.0\n"
     ]
    }
   ],
   "source": [
    "# Urgent Results Dataset\n",
    "urgduplicate_rows = urgent_df[urgent_df.duplicated(['color', 'category', 'status', 'interactionTime'])]\n",
    "\n",
    "urgnum_duplicates = len(urgduplicate_rows)\n",
    "print(\"Number of duplicate rows:\", urgnum_duplicates)\n",
    "\n",
    "if urgnum_duplicates > 0:\n",
    "    print(\"Duplicate rows:\")\n",
    "    print(urgduplicate_rows)"
   ]
  },
  {
   "cell_type": "code",
   "execution_count": 6,
   "metadata": {
    "colab": {
     "base_uri": "https://localhost:8080/"
    },
    "id": "zCsEu9rj47xj",
    "outputId": "e0733baf-28d4-4fc4-930a-24f8038114a9"
   },
   "outputs": [
    {
     "name": "stdout",
     "output_type": "stream",
     "text": [
      "Number of duplicate rows: 29\n",
      "Duplicate rows:\n",
      "     color   category     status  interactionTime\n",
      "9      Red  Emergency    ignored           -1.000\n",
      "10     Red       Work    ignored           -1.000\n",
      "11     Red     Social    ignored           -1.000\n",
      "12   Green  Emergency    ignored           -1.000\n",
      "13   Green       Work    ignored           -1.000\n",
      "14   Green     Social    ignored           -1.000\n",
      "15    Blue  Emergency    ignored           -1.000\n",
      "16    Blue       Work    ignored           -1.000\n",
      "17    Blue     Social    ignored           -1.000\n",
      "18     Red  Emergency    ignored           -1.000\n",
      "19     Red       Work    ignored           -1.000\n",
      "20     Red     Social    ignored           -1.000\n",
      "21   Green  Emergency    ignored           -1.000\n",
      "22   Green       Work    ignored           -1.000\n",
      "23   Green     Social    ignored           -1.000\n",
      "24    Blue  Emergency    ignored           -1.000\n",
      "25    Blue       Work    ignored           -1.000\n",
      "26    Blue     Social    ignored           -1.000\n",
      "27     Red  Emergency    ignored           -1.000\n",
      "28     Red       Work    ignored           -1.000\n",
      "29     Red     Social    ignored           -1.000\n",
      "30   Green  Emergency    ignored           -1.000\n",
      "31   Green       Work    ignored           -1.000\n",
      "32   Green     Social    ignored           -1.000\n",
      "33    Blue  Emergency    ignored           -1.000\n",
      "34    Blue       Work    ignored           -1.000\n",
      "35    Blue     Social    ignored           -1.000\n",
      "66   Green  Emergency   accepted            1.732\n",
      "155    Red     Social  dismissed            1.577\n"
     ]
    }
   ],
   "source": [
    "# Non-Urgent Results Dataset\n",
    "nonduplicate_rows = nonurgent_df[nonurgent_df.duplicated(['color', 'category', 'status', 'interactionTime'])]\n",
    "\n",
    "nonnum_duplicates = len(nonduplicate_rows)\n",
    "print(\"Number of duplicate rows:\", nonnum_duplicates)\n",
    "\n",
    "if nonnum_duplicates > 0:\n",
    "    print(\"Duplicate rows:\")\n",
    "    print(nonduplicate_rows)"
   ]
  },
  {
   "cell_type": "code",
   "execution_count": 7,
   "metadata": {
    "id": "lhvN4Tthp_Bj"
   },
   "outputs": [],
   "source": [
    "# Dropping urgent dataset duplicates\n",
    "urgent_df = urgent_df.drop(urgduplicate_rows.index)\n",
    "\n",
    "# Dropping non-urgent dataset duplicates\n",
    "nonurgent_df = nonurgent_df.drop(nonduplicate_rows.index)\n"
   ]
  },
  {
   "cell_type": "code",
   "execution_count": 8,
   "metadata": {
    "colab": {
     "base_uri": "https://localhost:8080/"
    },
    "id": "ZwJDMT3-rujh",
    "outputId": "e4c83bb7-87bb-4c27-bda9-53a1c66b3b40"
   },
   "outputs": [
    {
     "name": "stdout",
     "output_type": "stream",
     "text": [
      "Number of duplicate rows: 0\n"
     ]
    }
   ],
   "source": [
    "# Check Urgent dataset for duplicates again\n",
    "urgduplicate_rows = urgent_df[urgent_df.duplicated(['color', 'category', 'status', 'interactionTime'])]\n",
    "\n",
    "urgnum_duplicates = len(urgduplicate_rows)\n",
    "print(\"Number of duplicate rows:\", urgnum_duplicates)\n",
    "\n",
    "if urgnum_duplicates > 0:\n",
    "    print(\"Duplicate rows:\")\n",
    "    print(urgduplicate_rows)"
   ]
  },
  {
   "cell_type": "code",
   "execution_count": 9,
   "metadata": {
    "colab": {
     "base_uri": "https://localhost:8080/"
    },
    "id": "9Z5CuD5MxNkX",
    "outputId": "29cbafc9-f926-4db8-d1e7-1462fae652fc"
   },
   "outputs": [
    {
     "name": "stdout",
     "output_type": "stream",
     "text": [
      "Number of duplicate rows: 0\n"
     ]
    }
   ],
   "source": [
    "# Check Non-Urgent dataset for duplicates again\n",
    "nonduplicate_rows = nonurgent_df[nonurgent_df.duplicated(['color', 'category', 'status', 'interactionTime'])]\n",
    "\n",
    "nonnum_duplicates = len(nonduplicate_rows)\n",
    "print(\"Number of duplicate rows:\", nonnum_duplicates)\n",
    "\n",
    "if nonnum_duplicates > 0:\n",
    "    print(\"Duplicate rows:\")\n",
    "    print(nonduplicate_rows)"
   ]
  },
  {
   "cell_type": "markdown",
   "metadata": {
    "id": "nWMKcrRd5E9e"
   },
   "source": [
    "As can be seen from the functions above, the datasets no longer have duplicate rows after dropping the rows.\n",
    "\n",
    "\\\n",
    "### Checking for incorrect data type\n",
    "The next step is to ensure that the values are associated with the correct data type. The expected data type for each variable is as follows:\n",
    "- **`color`**: str\n",
    "- **`category`**: str\n",
    "- **`status`**: str\n",
    "- **`interactionTime`**: float"
   ]
  },
  {
   "cell_type": "code",
   "execution_count": 10,
   "metadata": {
    "colab": {
     "base_uri": "https://localhost:8080/"
    },
    "id": "uiH-fBHc6rL4",
    "outputId": "8100602c-d900-4cf6-e40d-521acda9e139"
   },
   "outputs": [
    {
     "name": "stdout",
     "output_type": "stream",
     "text": [
      "The data type of all values in 'color' of the Urgent Results dataset is correct and matches the expected data type.\n"
     ]
    }
   ],
   "source": [
    "# Checking the 'color' variable in the Urgent Results Dataset\n",
    "column_to_check = 'color'\n",
    "expected_data_type = str\n",
    "\n",
    "for value in urgent_df[column_to_check]:\n",
    "    data_type = type(value)\n",
    "    if data_type != expected_data_type:\n",
    "        print(f\"The data type of '{column_to_check}' is incorrect. Expected data type is {expected_data_type}, but it is {data_type}.\")\n",
    "        break\n",
    "\n",
    "else:\n",
    "    print(f\"The data type of all values in '{column_to_check}' of the Urgent Results dataset is correct and matches the expected data type.\")"
   ]
  },
  {
   "cell_type": "code",
   "execution_count": 11,
   "metadata": {
    "colab": {
     "base_uri": "https://localhost:8080/"
    },
    "id": "9EPj4bHg693H",
    "outputId": "59feac6c-5a4a-46b6-e515-007394fe6ffb"
   },
   "outputs": [
    {
     "name": "stdout",
     "output_type": "stream",
     "text": [
      "The data type of all values in 'category' of the Urgent Results dataset is correct and matches the expected data type.\n"
     ]
    }
   ],
   "source": [
    "# Checking the 'category' variable in the Urgent Results Dataset\n",
    "column_to_check = 'category'\n",
    "expected_data_type = str\n",
    "\n",
    "for value in urgent_df[column_to_check]:\n",
    "    data_type = type(value)\n",
    "    if data_type != expected_data_type:\n",
    "        print(f\"The data type of '{column_to_check}' is incorrect. Expected data type is {expected_data_type}, but it is {data_type}.\")\n",
    "        break\n",
    "\n",
    "else:\n",
    "    print(f\"The data type of all values in '{column_to_check}' of the Urgent Results dataset is correct and matches the expected data type.\")"
   ]
  },
  {
   "cell_type": "code",
   "execution_count": 12,
   "metadata": {
    "colab": {
     "base_uri": "https://localhost:8080/"
    },
    "id": "uUENfsMT7IT7",
    "outputId": "8abb4e3d-e010-42a3-f649-4959edd5e1b1"
   },
   "outputs": [
    {
     "name": "stdout",
     "output_type": "stream",
     "text": [
      "The data type of all values in 'status' of the Urgent Results dataset is correct and matches the expected data type.\n"
     ]
    }
   ],
   "source": [
    "# Checking the 'status' variable in the Urgent Results Dataset\n",
    "column_to_check = 'status'\n",
    "expected_data_type = str\n",
    "\n",
    "for value in urgent_df[column_to_check]:\n",
    "    data_type = type(value)\n",
    "    if data_type != expected_data_type:\n",
    "        print(f\"The data type of '{column_to_check}' is incorrect. Expected data type is {expected_data_type}, but it is {data_type}.\")\n",
    "        break\n",
    "\n",
    "else:\n",
    "    print(f\"The data type of all values in '{column_to_check}' of the Urgent Results dataset is correct and matches the expected data type.\")"
   ]
  },
  {
   "cell_type": "code",
   "execution_count": 13,
   "metadata": {
    "colab": {
     "base_uri": "https://localhost:8080/"
    },
    "id": "jhZtLM497MFv",
    "outputId": "3bc6d8a9-dce7-40cc-c431-9bd5f68597a8"
   },
   "outputs": [
    {
     "name": "stdout",
     "output_type": "stream",
     "text": [
      "The data type of all values in 'interactionTime' of the Urgent Results dataset is correct and matches the expected data type.\n"
     ]
    }
   ],
   "source": [
    "# Checking the 'interactionTime' variable in the Urgent Results Dataset\n",
    "column_to_check = 'interactionTime'\n",
    "expected_data_type = float\n",
    "\n",
    "for value in urgent_df[column_to_check]:\n",
    "    data_type = type(value)\n",
    "    if data_type != expected_data_type:\n",
    "        print(f\"The data type of '{column_to_check}' is incorrect. Expected data type is {expected_data_type}, but it is {data_type}.\")\n",
    "        break\n",
    "\n",
    "else:\n",
    "    print(f\"The data type of all values in '{column_to_check}' of the Urgent Results dataset is correct and matches the expected data type.\")"
   ]
  },
  {
   "cell_type": "code",
   "execution_count": 14,
   "metadata": {
    "colab": {
     "base_uri": "https://localhost:8080/"
    },
    "id": "jhRphn2_7Yt8",
    "outputId": "b18f146b-4742-4738-fc4c-16b44cd90e1a"
   },
   "outputs": [
    {
     "name": "stdout",
     "output_type": "stream",
     "text": [
      "The data type of all values in 'color' of the Non-Urgent Results dataset is correct and matches the expected data type.\n"
     ]
    }
   ],
   "source": [
    "# Checking the 'color' variable in the Non-Urgent Results Dataset\n",
    "column_to_check = 'color'\n",
    "expected_data_type = str\n",
    "\n",
    "for value in nonurgent_df[column_to_check]:\n",
    "    data_type = type(value)\n",
    "    if data_type != expected_data_type:\n",
    "        print(f\"The data type of '{column_to_check}' is incorrect. Expected data type is {expected_data_type}, but it is {data_type}.\")\n",
    "        break\n",
    "\n",
    "else:\n",
    "    print(f\"The data type of all values in '{column_to_check}' of the Non-Urgent Results dataset is correct and matches the expected data type.\")"
   ]
  },
  {
   "cell_type": "code",
   "execution_count": 15,
   "metadata": {
    "colab": {
     "base_uri": "https://localhost:8080/"
    },
    "id": "WJrXeagR7Yp3",
    "outputId": "d6b458f0-c51c-467e-824f-ee722951a816"
   },
   "outputs": [
    {
     "name": "stdout",
     "output_type": "stream",
     "text": [
      "The data type of all values in 'category' of the Non-Urgent Results dataset is correct and matches the expected data type.\n"
     ]
    }
   ],
   "source": [
    "# Checking the 'category' variable in the Non-Urgent Results Dataset\n",
    "column_to_check = 'category'\n",
    "expected_data_type = str\n",
    "\n",
    "for value in nonurgent_df[column_to_check]:\n",
    "    data_type = type(value)\n",
    "    if data_type != expected_data_type:\n",
    "        print(f\"The data type of '{column_to_check}' is incorrect. Expected data type is {expected_data_type}, but it is {data_type}.\")\n",
    "        break\n",
    "\n",
    "else:\n",
    "    print(f\"The data type of all values in '{column_to_check}' of the Non-Urgent Results dataset is correct and matches the expected data type.\")"
   ]
  },
  {
   "cell_type": "code",
   "execution_count": 16,
   "metadata": {
    "colab": {
     "base_uri": "https://localhost:8080/"
    },
    "id": "WM2ce6gN7Yj_",
    "outputId": "ff6a55f4-ecd2-408f-f036-7f790bce5f43"
   },
   "outputs": [
    {
     "name": "stdout",
     "output_type": "stream",
     "text": [
      "The data type of all values in 'status' of the Non-Urgent Results dataset is correct and matches the expected data type.\n"
     ]
    }
   ],
   "source": [
    "# Checking the 'status' variable in the Non-Urgent Results Dataset\n",
    "column_to_check = 'status'\n",
    "expected_data_type = str\n",
    "\n",
    "for value in nonurgent_df[column_to_check]:\n",
    "    data_type = type(value)\n",
    "    if data_type != expected_data_type:\n",
    "        print(f\"The data type of '{column_to_check}' is incorrect. Expected data type is {expected_data_type}, but it is {data_type}.\")\n",
    "        break\n",
    "\n",
    "else:\n",
    "    print(f\"The data type of all values in '{column_to_check}' of the Non-Urgent Results dataset is correct and matches the expected data type.\")"
   ]
  },
  {
   "cell_type": "code",
   "execution_count": 17,
   "metadata": {
    "colab": {
     "base_uri": "https://localhost:8080/"
    },
    "id": "YEQatWJY7YVc",
    "outputId": "222ac931-ed49-4f11-a7a8-80cc0ef4e2e8"
   },
   "outputs": [
    {
     "name": "stdout",
     "output_type": "stream",
     "text": [
      "The data type of 'category' is incorrect. Expected data type is <class 'float'>, but it is <class 'str'>.\n"
     ]
    }
   ],
   "source": [
    "# Checking the 'interactionTime' variable in the Non-Urgent Results Dataset\n",
    "column_to_check = 'category'\n",
    "expected_data_type = float\n",
    "\n",
    "for value in nonurgent_df[column_to_check]:\n",
    "    data_type = type(value)\n",
    "    if data_type != expected_data_type:\n",
    "        print(f\"The data type of '{column_to_check}' is incorrect. Expected data type is {expected_data_type}, but it is {data_type}.\")\n",
    "        break\n",
    "\n",
    "else:\n",
    "    print(f\"The data type of all values in '{column_to_check}' of the Non-Urgent Results dataset is correct and matches the expected data type.\")"
   ]
  },
  {
   "cell_type": "markdown",
   "metadata": {
    "id": "B1DJvXxU7pbk"
   },
   "source": [
    "As seen in the functions ran above, all the values of both datasets match the expected data type.\n",
    "\n",
    "\\\n",
    "### Transforming Values\n",
    "Because the values of both datasets match the expected data type, there is no need to transform the data types of the **`color`**, **`category`**, **`status`**, and **`interactionTime`** columns.\n",
    "\n",
    "\\\n",
    "### Post-cleaning"
   ]
  },
  {
   "cell_type": "code",
   "execution_count": 18,
   "metadata": {
    "colab": {
     "base_uri": "https://localhost:8080/"
    },
    "id": "rS0XAFc-8Sfd",
    "outputId": "ec77d03c-4cc0-471f-858c-8ebf267770f7"
   },
   "outputs": [
    {
     "name": "stdout",
     "output_type": "stream",
     "text": [
      "<class 'pandas.core.frame.DataFrame'>\n",
      "Int64Index: 145 entries, 0 to 179\n",
      "Data columns (total 4 columns):\n",
      " #   Column           Non-Null Count  Dtype  \n",
      "---  ------           --------------  -----  \n",
      " 0   color            145 non-null    object \n",
      " 1   category         145 non-null    object \n",
      " 2   status           145 non-null    object \n",
      " 3   interactionTime  145 non-null    float64\n",
      "dtypes: float64(1), object(3)\n",
      "memory usage: 5.7+ KB\n"
     ]
    }
   ],
   "source": [
    "urgent_df.info()"
   ]
  },
  {
   "cell_type": "code",
   "execution_count": 19,
   "metadata": {
    "colab": {
     "base_uri": "https://localhost:8080/"
    },
    "id": "MoSft56Q8Ssw",
    "outputId": "bd173ca5-d963-4a53-e613-3e695854e664"
   },
   "outputs": [
    {
     "name": "stdout",
     "output_type": "stream",
     "text": [
      "<class 'pandas.core.frame.DataFrame'>\n",
      "Int64Index: 151 entries, 0 to 179\n",
      "Data columns (total 4 columns):\n",
      " #   Column           Non-Null Count  Dtype  \n",
      "---  ------           --------------  -----  \n",
      " 0   color            151 non-null    object \n",
      " 1   category         151 non-null    object \n",
      " 2   status           151 non-null    object \n",
      " 3   interactionTime  151 non-null    float64\n",
      "dtypes: float64(1), object(3)\n",
      "memory usage: 5.9+ KB\n"
     ]
    }
   ],
   "source": [
    "nonurgent_df.info()"
   ]
  },
  {
   "cell_type": "markdown",
   "metadata": {
    "id": "vNuICTq88t9R"
   },
   "source": [
    "After cleaning, we can see that there is no change that happened after the data cleaning in both of the datasets."
   ]
  },
  {
   "cell_type": "markdown",
   "metadata": {
    "id": "R_OcpWcq8-P3"
   },
   "source": [
    "## **III. Exploratory Data Analysis**\n",
    "---\n",
    "### Question 1: How does interaction time vary across different categories and statuses in each dataset?\n"
   ]
  },
  {
   "cell_type": "code",
   "execution_count": 20,
   "metadata": {
    "colab": {
     "base_uri": "https://localhost:8080/",
     "height": 472
    },
    "id": "BBH53h34-zUG",
    "outputId": "622b441f-e408-4e8b-b247-ad92ba61d086"
   },
   "outputs": [
    {
     "data": {
      "image/png": "[encoded data removed]",
      "text/plain": [
       "<Figure size 1400x600 with 2 Axes>"
      ]
     },
     "metadata": {},
     "output_type": "display_data"
    }
   ],
   "source": [
    "plt.figure(figsize=(14, 6))\n",
    "plt.subplot(1, 2, 1)\n",
    "sns.boxplot(x='category', y='interactionTime', hue='status', data=urgent_df)\n",
    "plt.title('Urgent Dataset: Interaction Time Across Categories and Statuses')\n",
    "plt.xlabel('Category')\n",
    "plt.ylabel('Interaction Time')\n",
    "plt.legend(title='Status')\n",
    "\n",
    "plt.subplot(1, 2, 2)\n",
    "sns.boxplot(x='category', y='interactionTime', hue='status', data=nonurgent_df)\n",
    "plt.title('Non-urgent Dataset: Interaction Time Across Categories and Statuses')\n",
    "plt.xlabel('Category')\n",
    "plt.ylabel('Interaction Time')\n",
    "plt.legend(title='Status')\n",
    "\n",
    "plt.tight_layout()\n",
    "plt.show()"
   ]
  },
  {
   "cell_type": "code",
   "execution_count": 21,
   "metadata": {
    "colab": {
     "base_uri": "https://localhost:8080/"
    },
    "id": "WxVkHtbxzamD",
    "outputId": "4e4c9139-e738-4de2-de1e-cca64249d06f"
   },
   "outputs": [
    {
     "data": {
      "text/plain": [
       "color                   Red\n",
       "category             Social\n",
       "status             accepted\n",
       "interactionTime      33.455\n",
       "dtype: object"
      ]
     },
     "execution_count": 21,
     "metadata": {},
     "output_type": "execute_result"
    }
   ],
   "source": [
    "nonurgent_df[(nonurgent_df['category'] == 'Social') & (nonurgent_df['interactionTime'] >= 0) & (nonurgent_df['status'] == 'accepted')].max()"
   ]
  },
  {
   "cell_type": "code",
   "execution_count": 22,
   "metadata": {
    "colab": {
     "base_uri": "https://localhost:8080/"
    },
    "id": "lnWKH8471qR1",
    "outputId": "3f69dfe3-3054-4eca-844c-896b2897edd9"
   },
   "outputs": [
    {
     "data": {
      "text/plain": [
       "color                  Blue\n",
       "category             Social\n",
       "status             accepted\n",
       "interactionTime       0.787\n",
       "dtype: object"
      ]
     },
     "execution_count": 22,
     "metadata": {},
     "output_type": "execute_result"
    }
   ],
   "source": [
    "nonurgent_df[(nonurgent_df['category'] == 'Social') & (nonurgent_df['interactionTime'] >= 0) & (nonurgent_df['status'] == 'accepted')].min()"
   ]
  },
  {
   "cell_type": "code",
   "execution_count": 28,
   "metadata": {},
   "outputs": [
    {
     "name": "stderr",
     "output_type": "stream",
     "text": [
      "C:\\Users\\dbyon\\AppData\\Local\\Temp\\ipykernel_26688\\3119725289.py:1: FutureWarning: The default value of numeric_only in DataFrameGroupBy.mean is deprecated. In a future version, numeric_only will default to False. Either specify numeric_only or select only columns which should be valid for the function.\n",
      "  urgent_df.groupby(['category']).mean()\n"
     ]
    },
    {
     "data": {
      "text/html": [
       "<div>\n",
       "<style scoped>\n",
       "    .dataframe tbody tr th:only-of-type {\n",
       "        vertical-align: middle;\n",
       "    }\n",
       "\n",
       "    .dataframe tbody tr th {\n",
       "        vertical-align: top;\n",
       "    }\n",
       "\n",
       "    .dataframe thead th {\n",
       "        text-align: right;\n",
       "    }\n",
       "</style>\n",
       "<table border=\"1\" class=\"dataframe\">\n",
       "  <thead>\n",
       "    <tr style=\"text-align: right;\">\n",
       "      <th></th>\n",
       "      <th>interactionTime</th>\n",
       "    </tr>\n",
       "    <tr>\n",
       "      <th>category</th>\n",
       "      <th></th>\n",
       "    </tr>\n",
       "  </thead>\n",
       "  <tbody>\n",
       "    <tr>\n",
       "      <th>Emergency</th>\n",
       "      <td>1.945298</td>\n",
       "    </tr>\n",
       "    <tr>\n",
       "      <th>Social</th>\n",
       "      <td>2.067500</td>\n",
       "    </tr>\n",
       "    <tr>\n",
       "      <th>Work</th>\n",
       "      <td>1.801000</td>\n",
       "    </tr>\n",
       "  </tbody>\n",
       "</table>\n",
       "</div>"
      ],
      "text/plain": [
       "           interactionTime\n",
       "category                  \n",
       "Emergency         1.945298\n",
       "Social            2.067500\n",
       "Work              1.801000"
      ]
     },
     "execution_count": 28,
     "metadata": {},
     "output_type": "execute_result"
    }
   ],
   "source": [
    "urgent_df.groupby(['category']).mean()"
   ]
  },
  {
   "cell_type": "code",
   "execution_count": 29,
   "metadata": {},
   "outputs": [
    {
     "name": "stderr",
     "output_type": "stream",
     "text": [
      "C:\\Users\\dbyon\\AppData\\Local\\Temp\\ipykernel_26688\\2555037723.py:1: FutureWarning: The default value of numeric_only in DataFrameGroupBy.std is deprecated. In a future version, numeric_only will default to False. Either specify numeric_only or select only columns which should be valid for the function.\n",
      "  urgent_df.groupby(['category']).std()\n"
     ]
    },
    {
     "data": {
      "text/html": [
       "<div>\n",
       "<style scoped>\n",
       "    .dataframe tbody tr th:only-of-type {\n",
       "        vertical-align: middle;\n",
       "    }\n",
       "\n",
       "    .dataframe tbody tr th {\n",
       "        vertical-align: top;\n",
       "    }\n",
       "\n",
       "    .dataframe thead th {\n",
       "        text-align: right;\n",
       "    }\n",
       "</style>\n",
       "<table border=\"1\" class=\"dataframe\">\n",
       "  <thead>\n",
       "    <tr style=\"text-align: right;\">\n",
       "      <th></th>\n",
       "      <th>interactionTime</th>\n",
       "    </tr>\n",
       "    <tr>\n",
       "      <th>category</th>\n",
       "      <th></th>\n",
       "    </tr>\n",
       "  </thead>\n",
       "  <tbody>\n",
       "    <tr>\n",
       "      <th>Emergency</th>\n",
       "      <td>1.682448</td>\n",
       "    </tr>\n",
       "    <tr>\n",
       "      <th>Social</th>\n",
       "      <td>1.930672</td>\n",
       "    </tr>\n",
       "    <tr>\n",
       "      <th>Work</th>\n",
       "      <td>1.551312</td>\n",
       "    </tr>\n",
       "  </tbody>\n",
       "</table>\n",
       "</div>"
      ],
      "text/plain": [
       "           interactionTime\n",
       "category                  \n",
       "Emergency         1.682448\n",
       "Social            1.930672\n",
       "Work              1.551312"
      ]
     },
     "execution_count": 29,
     "metadata": {},
     "output_type": "execute_result"
    }
   ],
   "source": [
    "urgent_df.groupby(['category']).std()"
   ]
  },
  {
   "cell_type": "code",
   "execution_count": 30,
   "metadata": {},
   "outputs": [
    {
     "name": "stderr",
     "output_type": "stream",
     "text": [
      "C:\\Users\\dbyon\\AppData\\Local\\Temp\\ipykernel_26688\\3218831038.py:1: FutureWarning: The default value of numeric_only in DataFrameGroupBy.mean is deprecated. In a future version, numeric_only will default to False. Either specify numeric_only or select only columns which should be valid for the function.\n",
      "  nonurgent_df.groupby(['category']).mean()\n"
     ]
    },
    {
     "data": {
      "text/html": [
       "<div>\n",
       "<style scoped>\n",
       "    .dataframe tbody tr th:only-of-type {\n",
       "        vertical-align: middle;\n",
       "    }\n",
       "\n",
       "    .dataframe tbody tr th {\n",
       "        vertical-align: top;\n",
       "    }\n",
       "\n",
       "    .dataframe thead th {\n",
       "        text-align: right;\n",
       "    }\n",
       "</style>\n",
       "<table border=\"1\" class=\"dataframe\">\n",
       "  <thead>\n",
       "    <tr style=\"text-align: right;\">\n",
       "      <th></th>\n",
       "      <th>interactionTime</th>\n",
       "    </tr>\n",
       "    <tr>\n",
       "      <th>category</th>\n",
       "      <th></th>\n",
       "    </tr>\n",
       "  </thead>\n",
       "  <tbody>\n",
       "    <tr>\n",
       "      <th>Emergency</th>\n",
       "      <td>4.492180</td>\n",
       "    </tr>\n",
       "    <tr>\n",
       "      <th>Social</th>\n",
       "      <td>2.553740</td>\n",
       "    </tr>\n",
       "    <tr>\n",
       "      <th>Work</th>\n",
       "      <td>4.571412</td>\n",
       "    </tr>\n",
       "  </tbody>\n",
       "</table>\n",
       "</div>"
      ],
      "text/plain": [
       "           interactionTime\n",
       "category                  \n",
       "Emergency         4.492180\n",
       "Social            2.553740\n",
       "Work              4.571412"
      ]
     },
     "execution_count": 30,
     "metadata": {},
     "output_type": "execute_result"
    }
   ],
   "source": [
    "nonurgent_df.groupby(['category']).mean()"
   ]
  },
  {
   "cell_type": "code",
   "execution_count": 31,
   "metadata": {},
   "outputs": [
    {
     "name": "stderr",
     "output_type": "stream",
     "text": [
      "C:\\Users\\dbyon\\AppData\\Local\\Temp\\ipykernel_26688\\4031121759.py:1: FutureWarning: The default value of numeric_only in DataFrameGroupBy.std is deprecated. In a future version, numeric_only will default to False. Either specify numeric_only or select only columns which should be valid for the function.\n",
      "  nonurgent_df.groupby(['category']).std()\n"
     ]
    },
    {
     "data": {
      "text/html": [
       "<div>\n",
       "<style scoped>\n",
       "    .dataframe tbody tr th:only-of-type {\n",
       "        vertical-align: middle;\n",
       "    }\n",
       "\n",
       "    .dataframe tbody tr th {\n",
       "        vertical-align: top;\n",
       "    }\n",
       "\n",
       "    .dataframe thead th {\n",
       "        text-align: right;\n",
       "    }\n",
       "</style>\n",
       "<table border=\"1\" class=\"dataframe\">\n",
       "  <thead>\n",
       "    <tr style=\"text-align: right;\">\n",
       "      <th></th>\n",
       "      <th>interactionTime</th>\n",
       "    </tr>\n",
       "    <tr>\n",
       "      <th>category</th>\n",
       "      <th></th>\n",
       "    </tr>\n",
       "  </thead>\n",
       "  <tbody>\n",
       "    <tr>\n",
       "      <th>Emergency</th>\n",
       "      <td>12.001453</td>\n",
       "    </tr>\n",
       "    <tr>\n",
       "      <th>Social</th>\n",
       "      <td>5.350572</td>\n",
       "    </tr>\n",
       "    <tr>\n",
       "      <th>Work</th>\n",
       "      <td>9.383130</td>\n",
       "    </tr>\n",
       "  </tbody>\n",
       "</table>\n",
       "</div>"
      ],
      "text/plain": [
       "           interactionTime\n",
       "category                  \n",
       "Emergency        12.001453\n",
       "Social            5.350572\n",
       "Work              9.383130"
      ]
     },
     "execution_count": 31,
     "metadata": {},
     "output_type": "execute_result"
    }
   ],
   "source": [
    "nonurgent_df.groupby(['category']).std()"
   ]
  },
  {
   "cell_type": "markdown",
   "metadata": {
    "id": "TJ8yGhdpAPnJ"
   },
   "source": [
    "In both of the datasets it is evident that the notification status is mostly *Accepted*.\n",
    "\n",
    "**Urgent Dataset**:\n",
    "- For the category \"Emergency,\" all interactions are accepted with interaction times ranging from approximately 0.7 to 6.7.\n",
    "- For the category \"Work,\" all interactions are accepted with interaction times ranging from approximately 0.7 to 6.6.\n",
    "- For the category \"Social,\" one interaction is dismissed with an interaction time of around 2.0, while the rest are accepted, with interaction times ranging from approximately 0.7 to 6.2.\n",
    "\n",
    "**Non-Urgent Dataset**:\n",
    "- For the category \"Emergency,\" all interactions are accepted with interaction times ranging from approximately 0.6 to 7.1.\n",
    "- For the category \"Work,\" all interactions are accepted with interaction times ranging from approximately 0.7 to 23.8.\n",
    "- For the category \"Social,\" one interaction is ignored, indicated by a value of -1, and the rest are accepted, with interaction times ranging from approximately 0.8 to 33.5.\n",
    "\n",
    "\\\n",
    "### Question 2: Is there any difference in the relationship between color and status between the two datasets?"
   ]
  },
  {
   "cell_type": "code",
   "execution_count": null,
   "metadata": {
    "colab": {
     "base_uri": "https://localhost:8080/",
     "height": 607
    },
    "id": "YPN0XfG4AVVd",
    "outputId": "46297e21-fbe5-4c2f-b2c8-cc2572ecd874"
   },
   "outputs": [
    {
     "data": {
      "image/png": "[encoded data removed]",
      "text/plain": [
       "<Figure size 1400x600 with 4 Axes>"
      ]
     },
     "metadata": {},
     "output_type": "display_data"
    }
   ],
   "source": [
    "plt.figure(figsize=(14, 6))\n",
    "plt.subplot(1, 2, 1)\n",
    "sns.heatmap(pd.crosstab(urgent_df['color'], urgent_df['status']), annot=True, cmap='Blues')\n",
    "plt.title('Urgent Dataset: Color vs Status')\n",
    "plt.xlabel('Status')\n",
    "plt.ylabel('Color')\n",
    "\n",
    "plt.subplot(1, 2, 2)\n",
    "sns.heatmap(pd.crosstab(nonurgent_df['color'], nonurgent_df['status']), annot=True, cmap='Blues')\n",
    "plt.title('Non-urgent Dataset: Color vs Status')\n",
    "plt.xlabel('Status')\n",
    "plt.ylabel('Color')\n",
    "\n",
    "plt.tight_layout()\n",
    "plt.show()"
   ]
  },
  {
   "cell_type": "code",
   "execution_count": null,
   "metadata": {
    "colab": {
     "base_uri": "https://localhost:8080/",
     "height": 487
    },
    "id": "GV46dIk5x15p",
    "outputId": "af70591e-daec-4b7a-e778-42a19a32a35d"
   },
   "outputs": [
    {
     "data": {
      "image/png": "[encoded data removed]",
      "text/plain": [
       "<Figure size 1400x600 with 4 Axes>"
      ]
     },
     "metadata": {},
     "output_type": "display_data"
    }
   ],
   "source": [
    "plt.figure(figsize=(14, 6))\n",
    "plt.subplot(1, 2, 1)\n",
    "sns.heatmap(pd.crosstab(urgent_df['color'], urgent_df['status']), annot=True, cmap='Blues')\n",
    "plt.title('Urgent Dataset: Color vs Status')\n",
    "plt.xlabel('Status')\n",
    "plt.ylabel('Color')\n",
    "\n",
    "plt.subplot(1, 2, 2)\n",
    "sns.heatmap(pd.crosstab(nonurgent_df['color'], nonurgent_df['status']), annot=True, cmap='Blues')\n",
    "plt.title('Non-urgent Dataset: Color vs Status')\n",
    "plt.xlabel('Status')\n",
    "plt.ylabel('Color')\n",
    "\n",
    "plt.tight_layout()\n",
    "plt.show()"
   ]
  },
  {
   "cell_type": "markdown",
   "metadata": {
    "id": "uf52MZaOAoxe"
   },
   "source": [
    "The heatmaps represents the count of occurrences of a specific color-status combination within the urgent dataset. The color intensity in each cell indicates the count of observations: darker shades represent higher counts, while lighter shades represent lower counts.\n",
    "\n",
    "**Urgent Dataset**:\n",
    "- In the urgent dataset, for the color *Red*, there are 33 interactions that are *accepted*, 14 interaction that is *dismissed*, and 3 interactions that is ignored. This is represented by darker shades in the respective cells.\n",
    "\n",
    "- For the color *Green*, 29 interactions were *accepted*, 14 is also *dismissed*, and 3 are also *ignored*\n",
    "\n",
    "- Similarly, there are also 3 interactions that were *ignored* for the color *Blue*. On the other hand, it has 22 interactions that were *accepted* and 24 that are *dismissed*\n",
    "\n",
    "**Non-Urgent Dataset**:\n",
    "- In the non-urgent dataset, for the color *Red*, there are 30 interactions that are *accepted*, 17 interactions that is *dismissed*. The *ignored* interaction is indicated by a count of 3\n",
    "- For the colors *Green* 26 are *accepted*, 21 *dismissed*, and 3 *ignored*.\n",
    "- Lastly for the color Blue, 27 interactions are accepted, 21 are *dismissed*, 3 are *ignored*\n",
    "\n",
    "Generally, the behavior shown by participants in both of the scenarios wherein the color red on both datasets has the most accepted interactions in the color group. Something to note also is that there are generally more dismissed interactions in the non-urgent dataset, which is to be expected as the level of urgency is lower as compared to the urgent dataset.\n",
    "\n",
    "\\\n",
    "### Question 3: Are there any differences in the average interaction times between the urgent and non-urgent datasets?\n",
    "\n"
   ]
  },
  {
   "cell_type": "code",
   "execution_count": null,
   "metadata": {
    "colab": {
     "base_uri": "https://localhost:8080/",
     "height": 928
    },
    "id": "WZki1M41x_KY",
    "outputId": "020a33e7-b10a-4b67-f69d-4ba1a2d3b706"
   },
   "outputs": [
    {
     "data": {
      "image/png": "[encoded data removed]",
      "text/plain": [
       "<Figure size 800x600 with 1 Axes>"
      ]
     },
     "metadata": {},
     "output_type": "display_data"
    },
    {
     "name": "stdout",
     "output_type": "stream",
     "text": [
      "Descriptive Statistics for Urgent Dataset:\n",
      "count    145.000000\n",
      "mean       1.939669\n",
      "std        1.723422\n",
      "min       -1.000000\n",
      "25%        1.010000\n",
      "50%        1.347000\n",
      "75%        2.306000\n",
      "max        8.280000\n",
      "Name: interactionTime, dtype: float64\n",
      "\n",
      "Descriptive Statistics for Non-urgent Dataset:\n",
      "count    151.000000\n",
      "mean       3.877073\n",
      "std        9.307249\n",
      "min       -1.000000\n",
      "25%        1.055000\n",
      "50%        1.291000\n",
      "75%        2.527000\n",
      "max       67.916000\n",
      "Name: interactionTime, dtype: float64\n"
     ]
    }
   ],
   "source": [
    "urgent_mean_interaction_time = urgent_df['interactionTime'].mean()\n",
    "nonurgent_mean_interaction_time = nonurgent_df['interactionTime'].mean()\n",
    "\n",
    "plt.figure(figsize=(8, 6))\n",
    "plt.bar(['Urgent', 'Non-urgent'], [urgent_mean_interaction_time, nonurgent_mean_interaction_time], color=['blue', 'orange'])\n",
    "plt.title('Comparison of Mean Interaction Time Between Urgent and Non-urgent Datasets')\n",
    "plt.xlabel('Dataset')\n",
    "plt.ylabel('Mean Interaction Time')\n",
    "plt.show()\n",
    "\n",
    "print(\"Descriptive Statistics for Urgent Dataset:\")\n",
    "print(urgent_df['interactionTime'].describe())\n",
    "print(\"\\nDescriptive Statistics for Non-urgent Dataset:\")\n",
    "print(nonurgent_df['interactionTime'].describe())"
   ]
  },
  {
   "cell_type": "code",
   "execution_count": null,
   "metadata": {
    "colab": {
     "base_uri": "https://localhost:8080/"
    },
    "id": "iHGMDWcvIkaP",
    "outputId": "5cd363d8-6e9c-45f3-fc1a-29df944db186"
   },
   "outputs": [
    {
     "name": "stdout",
     "output_type": "stream",
     "text": [
      "Independent Samples t-test Results:\n",
      "T-statistic: -2.466158007464487\n",
      "P-value: 0.014227688915800446\n",
      "There is a significant difference between the mean interaction times of the urgent and non-urgent datasets.\n"
     ]
    }
   ],
   "source": [
    "from scipy.stats import ttest_ind\n",
    "\n",
    "t_statistic, p_value = ttest_ind(urgent_df['interactionTime'], nonurgent_df['interactionTime'])\n",
    "\n",
    "print(\"Independent Samples t-test Results:\")\n",
    "print(\"T-statistic:\", t_statistic)\n",
    "print(\"P-value:\", p_value)\n",
    "\n",
    "if p_value < 0.05:\n",
    "    print(\"There is a significant difference between the mean interaction times of the urgent and non-urgent datasets.\")\n",
    "else:\n",
    "    print(\"There is no significant difference between the mean interaction times of the urgent and non-urgent datasets.\")"
   ]
  },
  {
   "cell_type": "markdown",
   "metadata": {
    "id": "bjB8yS41BaIw"
   },
   "source": [
    "From the bar plot, we can see that the mean interaction time is higher in the *non-urgent dataset* compared to the *urgent dataset*. This indicates that, on average, interactions in the non-urgent context tend to take longer than those in the urgent context. Furthermore, the difference between the means is 1.937404. Turning to the independent samples t-test there is describes the there is a significant difference between the mean interaction times of the *urgent* and *non_urgent* datasets."
   ]
  },
  {
   "cell_type": "markdown",
   "metadata": {
    "id": "Xe-owR5xDe5Z"
   },
   "source": [
    "\n",
    "### Question 4: Is there any correlation between category and status in each dataset?"
   ]
  },
  {
   "cell_type": "code",
   "execution_count": null,
   "metadata": {
    "colab": {
     "base_uri": "https://localhost:8080/",
     "height": 643
    },
    "id": "R7e02KZFD6f5",
    "outputId": "32141e68-c4a6-4369-9947-5b836946b27a"
   },
   "outputs": [
    {
     "data": {
      "image/png": "[encoded data removed]",
      "text/plain": [
       "<Figure size 1400x600 with 4 Axes>"
      ]
     },
     "metadata": {},
     "output_type": "display_data"
    },
    {
     "name": "stdout",
     "output_type": "stream",
     "text": [
      "Urgent Dataset:\n",
      "Chi-square statistic: 6.8975270666095145\n",
      "P-value: 0.14140356220768702\n",
      "There is no significant correlation between category and status in the urgent dataset.\n",
      "\n",
      "Non-urgent Dataset:\n",
      "Chi-square statistic: 0.8168548170748798\n",
      "P-value: 0.9361742646372982\n",
      "There is no significant correlation between category and status in the non-urgent dataset.\n"
     ]
    }
   ],
   "source": [
    "urgent_contingency_table = pd.crosstab(urgent_df['category'], urgent_df['status'])\n",
    "nonurgent_contingency_table = pd.crosstab(nonurgent_df['category'], nonurgent_df['status'])\n",
    "\n",
    "plt.figure(figsize=(14, 6))\n",
    "\n",
    "plt.subplot(1, 2, 1)\n",
    "sns.heatmap(urgent_contingency_table, annot=True, cmap='Blues', fmt='d')\n",
    "plt.title('Urgent Dataset: Category vs Status')\n",
    "\n",
    "plt.subplot(1, 2, 2)\n",
    "sns.heatmap(nonurgent_contingency_table, annot=True, cmap='Blues', fmt='d')\n",
    "plt.title('Non-urgent Dataset: Category vs Status')\n",
    "\n",
    "plt.tight_layout()\n",
    "plt.show()\n",
    "\n",
    "urgent_chi2, urgent_p, _, _ = chi2_contingency(urgent_contingency_table)\n",
    "nonurgent_chi2, nonurgent_p, _, _ = chi2_contingency(nonurgent_contingency_table)\n",
    "\n",
    "print(\"Urgent Dataset:\")\n",
    "print(\"Chi-square statistic:\", urgent_chi2)\n",
    "print(\"P-value:\", urgent_p)\n",
    "if urgent_p < 0.05:\n",
    "    print(\"There is a significant correlation between category and status in the urgent dataset.\")\n",
    "else:\n",
    "    print(\"There is no significant correlation between category and status in the urgent dataset.\")\n",
    "\n",
    "print(\"\\nNon-urgent Dataset:\")\n",
    "print(\"Chi-square statistic:\", nonurgent_chi2)\n",
    "print(\"P-value:\", nonurgent_p)\n",
    "if nonurgent_p < 0.05:\n",
    "    print(\"There is a significant correlation between category and status in the non-urgent dataset.\")\n",
    "else:\n",
    "    print(\"There is no significant correlation between category and status in the non-urgent dataset.\")"
   ]
  },
  {
   "cell_type": "markdown",
   "metadata": {
    "id": "wz9qpGzYJmTN"
   },
   "source": [
    "The heatmaps display the contingency tables for both datasets, with rows representing categories *(Emergency, Work, Social)* and columns representing statuses *(Accepted, Dismissed, Ignored)*. In this case, the chi-square test is applied to the contingency tables of both datasets to assess if there is a correlation between category and status.\n",
    "\n",
    "**Urgent Dataset**:\n",
    "Based on the test, the p-value is approximately **6.9**, meaning that there is no significant correlation between category and status in the urgent dataset.\n",
    "\n",
    "**Non-Urgent Dataset**:\n",
    "Similary, the test indicates that there is no significant correlation between category and status in the non-urgent dataset as the p-value is the same as the urgent dataset."
   ]
  },
  {
   "cell_type": "markdown",
   "metadata": {
    "id": "Xb_a1b8iLRuF"
   },
   "source": [
    "## IV. Research Question\n",
    "---\n",
    "####**Do notification interactions differ between urgent and non-urgent contexts?** ####\n",
    "After conducting our Exploratory Data Analysis, we have observed that there is significant differences among the interaction behavior between the urgent and non-urgent datasets.\n",
    "\n",
    "The visual graphs display similar, if not the same, trends. This suggests that the users interact differently based on the level of urgency of a given notification. However, upon further analysis of the data it showed that factors such as category, status, and interaction time do not vary significantly between urgent and non-urgent notifications.\n",
    "\n",
    "\\\n",
    "## V. Significance of the Research Question\n",
    "---\n",
    "The research question, \"***How do notification interactions differ between urgent and non-urgent contexts?***\" holds several significant implications:\n",
    "- Enhancing user experience may result from an understanding of how notifications interact differently in urgent versus non-urgent contexts. Through customization of notification handling strategies according to context-specific urgency, users can receive pertinent information in a timely manner without needless disruptions or delays.\n",
    "- Workflow optimization is made possible by identifying relationships between statuses and notification categories. Businesses can handle both urgent and non-urgent notifications more efficiently by implementing customized workflows or automated responses based on notification attributes.\n",
    "- Notification system design can be influenced by knowledge of the relationship between notification attributes (e.g., color) and status. In order to improve visibility and comprehension and make sure that users can quickly determine the urgency and importance of notifications, designers can optimize notification attributes.\n"
   ]
  }
 ],
 "metadata": {
  "colab": {
   "provenance": [],
   "toc_visible": true
  },
  "kernelspec": {
   "display_name": "Python 3 (ipykernel)",
   "language": "python",
   "name": "python3"
  },
  "language_info": {
   "codemirror_mode": {
    "name": "ipython",
    "version": 3
   },
   "file_extension": ".py",
   "mimetype": "text/x-python",
   "name": "python",
   "nbconvert_exporter": "python",
   "pygments_lexer": "ipython3",
   "version": "3.10.8"
  }
 },
 "nbformat": 4,
 "nbformat_minor": 4
}
